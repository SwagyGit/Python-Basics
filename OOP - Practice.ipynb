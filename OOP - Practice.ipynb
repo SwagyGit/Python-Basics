{
 "cells": [
  {
   "cell_type": "code",
   "execution_count": 67,
   "metadata": {},
   "outputs": [],
   "source": [
    "class Family:\n",
    "    #Attribute for Object\n",
    "    i = 19\n",
    "    \n",
    "    #Attributes for instance\n",
    "    def __init__(self,member):\n",
    "        self.mem = member\n",
    "        \n",
    "    #Methos \n",
    "    def activities(self):\n",
    "        print('All {} members love to play outdoor'.format(self.mem))\n",
    "        print(f'All {self.mem} members love to play outdoor')"
   ]
  },
  {
   "cell_type": "code",
   "execution_count": 68,
   "metadata": {},
   "outputs": [],
   "source": [
    "my_family = Family(9)"
   ]
  },
  {
   "cell_type": "code",
   "execution_count": 69,
   "metadata": {},
   "outputs": [
    {
     "data": {
      "text/plain": [
       "19"
      ]
     },
     "execution_count": 69,
     "metadata": {},
     "output_type": "execute_result"
    }
   ],
   "source": [
    "my_family.i"
   ]
  },
  {
   "cell_type": "code",
   "execution_count": 70,
   "metadata": {},
   "outputs": [
    {
     "data": {
      "text/plain": [
       "9"
      ]
     },
     "execution_count": 70,
     "metadata": {},
     "output_type": "execute_result"
    }
   ],
   "source": [
    "my_family.mem"
   ]
  },
  {
   "cell_type": "code",
   "execution_count": 71,
   "metadata": {},
   "outputs": [
    {
     "name": "stdout",
     "output_type": "stream",
     "text": [
      "All 9 members love to play outdoor\n",
      "All 9 members love to play outdoor\n"
     ]
    }
   ],
   "source": [
    "my_family.activities()"
   ]
  },
  {
   "cell_type": "code",
   "execution_count": 53,
   "metadata": {},
   "outputs": [],
   "source": [
    "class School(object):\n",
    "    def __init__(self,student):\n",
    "        self.student = student"
   ]
  },
  {
   "cell_type": "code",
   "execution_count": 55,
   "metadata": {},
   "outputs": [],
   "source": [
    "class Lion:\n",
    "    def __init__(self,breed):\n",
    "        self.breed = breed"
   ]
  },
  {
   "cell_type": "code",
   "execution_count": 56,
   "metadata": {},
   "outputs": [],
   "source": [
    "animal = School"
   ]
  },
  {
   "cell_type": "code",
   "execution_count": 106,
   "metadata": {},
   "outputs": [],
   "source": [
    "#Main Class\n",
    "class Animal_kingdom():\n",
    "    \n",
    "    #Class attribute\n",
    "    leg = 4\n",
    "    tail = True\n",
    "    \n",
    "    def __init__(self,name):\n",
    "        self.name = name\n",
    "        \n",
    "    #Abstruct Methods    \n",
    "    def say(self):\n",
    "        raise NotImplementedError(\"Subclass must implement abstract method\")\n",
    "    #Abstruct Methods\n",
    "    def lives(self):\n",
    "        raise NotImplementedError(\"Subclass must implement abstract method\")"
   ]
  },
  {
   "cell_type": "code",
   "execution_count": 107,
   "metadata": {},
   "outputs": [],
   "source": [
    "class Dog(Animal_kingdom):\n",
    "    \n",
    "    def say(self):\n",
    "        print(f'{self.name} says woof!')\n",
    "        \n",
    "    def lives(self):\n",
    "        print(f'{self.name} lives in Kennel.')"
   ]
  },
  {
   "cell_type": "code",
   "execution_count": 108,
   "metadata": {},
   "outputs": [],
   "source": [
    "class Cow(Animal_kingdom):\n",
    "    \n",
    "    def say(self):\n",
    "        print(f'{self.name} says moo moo!')\n",
    "        \n",
    "    def lives(self):\n",
    "        print(f'{self.name} lives in Shed.')"
   ]
  },
  {
   "cell_type": "code",
   "execution_count": 109,
   "metadata": {},
   "outputs": [],
   "source": [
    "class Cat(Animal_kingdom):\n",
    "    \n",
    "    def say(self):\n",
    "        print(self.name+' says meow!')\n",
    "        \n",
    "    def lives(self):\n",
    "        print(self.name+' lives in House.')"
   ]
  },
  {
   "cell_type": "code",
   "execution_count": 110,
   "metadata": {},
   "outputs": [],
   "source": [
    "Fred = Dog(\"Fred\")\n",
    "Pluff = Cat('Pluff')\n",
    "Flexie = Cow('Flexie')"
   ]
  },
  {
   "cell_type": "code",
   "execution_count": 111,
   "metadata": {},
   "outputs": [
    {
     "name": "stdout",
     "output_type": "stream",
     "text": [
      "Fred says woof!\n"
     ]
    }
   ],
   "source": [
    "Fred.say()"
   ]
  },
  {
   "cell_type": "code",
   "execution_count": 112,
   "metadata": {},
   "outputs": [
    {
     "data": {
      "text/plain": [
       "'Fred'"
      ]
     },
     "execution_count": 112,
     "metadata": {},
     "output_type": "execute_result"
    }
   ],
   "source": [
    "Fred.name"
   ]
  },
  {
   "cell_type": "code",
   "execution_count": 114,
   "metadata": {},
   "outputs": [
    {
     "name": "stdout",
     "output_type": "stream",
     "text": [
      "Fred says woof!\n",
      "Fred lives in Kennel.\n",
      "Pluff says meow!\n",
      "Pluff lives in House.\n",
      "Flexie says moo moo!\n",
      "Flexie lives in Shed.\n"
     ]
    }
   ],
   "source": [
    "for pet in [Fred,Pluff,Flexie]:\n",
    "    pet.name\n",
    "    pet.say()\n",
    "    pet.leg\n",
    "    pet.lives()"
   ]
  },
  {
   "cell_type": "code",
   "execution_count": 91,
   "metadata": {},
   "outputs": [
    {
     "data": {
      "text/plain": [
       "<__main__.Dog at 0x1c469c84610>"
      ]
     },
     "execution_count": 91,
     "metadata": {},
     "output_type": "execute_result"
    }
   ],
   "source": [
    "Fred"
   ]
  },
  {
   "cell_type": "code",
   "execution_count": 92,
   "metadata": {},
   "outputs": [
    {
     "data": {
      "text/plain": [
       "4"
      ]
     },
     "execution_count": 92,
     "metadata": {},
     "output_type": "execute_result"
    }
   ],
   "source": [
    "Fred.leg"
   ]
  },
  {
   "cell_type": "code",
   "execution_count": 94,
   "metadata": {},
   "outputs": [
    {
     "name": "stdout",
     "output_type": "stream",
     "text": [
      "Fred says woof!\n"
     ]
    }
   ],
   "source": [
    "Fred.say()"
   ]
  },
  {
   "cell_type": "code",
   "execution_count": 117,
   "metadata": {},
   "outputs": [],
   "source": [
    "def pet_func(pet):\n",
    "    print('My pet dog name is '+pet.name)"
   ]
  },
  {
   "cell_type": "code",
   "execution_count": 118,
   "metadata": {},
   "outputs": [
    {
     "name": "stdout",
     "output_type": "stream",
     "text": [
      "My pet dog name is Fred\n"
     ]
    }
   ],
   "source": [
    "pet_func(Fred)"
   ]
  },
  {
   "cell_type": "code",
   "execution_count": null,
   "metadata": {},
   "outputs": [],
   "source": []
  }
 ],
 "metadata": {
  "kernelspec": {
   "display_name": "Python 3",
   "language": "python",
   "name": "python3"
  },
  "language_info": {
   "codemirror_mode": {
    "name": "ipython",
    "version": 3
   },
   "file_extension": ".py",
   "mimetype": "text/x-python",
   "name": "python",
   "nbconvert_exporter": "python",
   "pygments_lexer": "ipython3",
   "version": "3.8.5"
  }
 },
 "nbformat": 4,
 "nbformat_minor": 4
}
