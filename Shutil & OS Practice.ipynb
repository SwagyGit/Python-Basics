{
 "cells": [
  {
   "cell_type": "code",
   "execution_count": 1,
   "metadata": {},
   "outputs": [],
   "source": [
    "import send2trash"
   ]
  },
  {
   "cell_type": "code",
   "execution_count": 10,
   "metadata": {},
   "outputs": [],
   "source": [
    "import os\n",
    "import shutil"
   ]
  },
  {
   "cell_type": "code",
   "execution_count": 11,
   "metadata": {},
   "outputs": [
    {
     "data": {
      "text/plain": [
       "'C:\\\\Users\\\\jigga\\\\Python Learning'"
      ]
     },
     "execution_count": 11,
     "metadata": {},
     "output_type": "execute_result"
    }
   ],
   "source": [
    "pwd"
   ]
  },
  {
   "cell_type": "code",
   "execution_count": 12,
   "metadata": {},
   "outputs": [
    {
     "data": {
      "text/plain": [
       "'C:\\\\Users\\\\jigga\\\\Python Learning'"
      ]
     },
     "execution_count": 12,
     "metadata": {},
     "output_type": "execute_result"
    }
   ],
   "source": [
    "os.getcwd()"
   ]
  },
  {
   "cell_type": "code",
   "execution_count": 13,
   "metadata": {},
   "outputs": [],
   "source": [
    "myfile_os = open('os_module_testfile.txt','w+')\n"
   ]
  },
  {
   "cell_type": "code",
   "execution_count": 14,
   "metadata": {},
   "outputs": [],
   "source": [
    "myfile_os.write(\"I am testing Shutil and OS module for better handing files in directories!\")\n",
    "myfile_os.close()"
   ]
  },
  {
   "cell_type": "code",
   "execution_count": 17,
   "metadata": {},
   "outputs": [
    {
     "ename": "FileNotFoundError",
     "evalue": "[Errno 2] No such file or directory: 'C:\\\\Users\\\\jigga\\\\Python Learning\\\\sample.txt'",
     "output_type": "error",
     "traceback": [
      "\u001b[1;31m---------------------------------------------------------------------------\u001b[0m",
      "\u001b[1;31mFileNotFoundError\u001b[0m                         Traceback (most recent call last)",
      "\u001b[1;32m<ipython-input-17-74cea48dc688>\u001b[0m in \u001b[0;36m<module>\u001b[1;34m\u001b[0m\n\u001b[1;32m----> 1\u001b[1;33m \u001b[0mmyfile_os\u001b[0m \u001b[1;33m=\u001b[0m\u001b[0mopen\u001b[0m\u001b[1;33m(\u001b[0m\u001b[1;34m'C:\\\\Users\\\\jigga\\\\Python Learning\\\\sample.txt'\u001b[0m\u001b[1;33m)\u001b[0m\u001b[1;33m\u001b[0m\u001b[1;33m\u001b[0m\u001b[0m\n\u001b[0m",
      "\u001b[1;31mFileNotFoundError\u001b[0m: [Errno 2] No such file or directory: 'C:\\\\Users\\\\jigga\\\\Python Learning\\\\sample.txt'"
     ]
    }
   ],
   "source": [
    "myfile_os =open('C:\\\\Users\\\\jigga\\\\Python Learning\\\\sample.txt')"
   ]
  },
  {
   "cell_type": "code",
   "execution_count": null,
   "metadata": {},
   "outputs": [],
   "source": []
  },
  {
   "cell_type": "code",
   "execution_count": 10,
   "metadata": {},
   "outputs": [
    {
     "data": {
      "text/plain": [
       "['.ipynb_checkpoints',\n",
       " '00-Collections-Module.ipynb',\n",
       " '01-Iterators and Generators.ipynb',\n",
       " '01-Milestone Project 2 - Assignment.ipynb',\n",
       " '01-Numbers.ipynb',\n",
       " '01-Object Oriented Programming.ipynb',\n",
       " '01-Opening-and-Reading-Files-Folders.ipynb',\n",
       " '02-Errors and Exceptions Homework.ipynb',\n",
       " '02-Iterators and Generators Homework.ipynb',\n",
       " '02-Milestone Project 1 - Walkthrough Steps Workbook.ipynb',\n",
       " '02-Object Oriented Programming Homework.ipynb',\n",
       " '02-Strings.ipynb',\n",
       " '03-for Loops.ipynb',\n",
       " '03-Function Practice Exercises.ipynb',\n",
       " '03-Print Formatting with Strings.ipynb',\n",
       " '04-Function Practice Exercises - Solutions.ipynb',\n",
       " '04-OOP Challenge.ipynb',\n",
       " '04-Unit Testing.ipynb',\n",
       " '04-while Loops.ipynb',\n",
       " '05-Dictionaries.ipynb',\n",
       " '05-Lambda-Expressions-Map-and-Filter.ipynb',\n",
       " '05-Useful-Operators.ipynb',\n",
       " '06-List Comprehensions.ipynb',\n",
       " '07-Advanced-Modules-Exercise-Puzzle.ipynb',\n",
       " '07-args and kwargs.ipynb',\n",
       " '07-Statements Assessment Test.ipynb',\n",
       " '08-Advanced-Modules-Exercise-Solutions.ipynb',\n",
       " '08-Functions and Methods Homework.ipynb',\n",
       " '09-Functions and Methods Homework - Solutions.ipynb',\n",
       " '09-Guessing Game Challenge.ipynb',\n",
       " '09-Objects and Data Structures Assessment Test.ipynb',\n",
       " 'Basic1.ipynb',\n",
       " 'BlackJack Game.ipynb',\n",
       " 'OOP - Practice.ipynb',\n",
       " 'os_module_testfile.txt',\n",
       " 'Practice - 2.ipynb',\n",
       " 'Practice - Decoratoes and Generators.ipynb',\n",
       " 'Practice 1.ipynb',\n",
       " 'practice 2.ipynb',\n",
       " 'sample.text',\n",
       " 'Shutil & OS Practice.ipynb',\n",
       " 'Tic Tac Toe Game - Project.ipynb',\n",
       " 'today.text',\n",
       " 'Untitled.ipynb',\n",
       " 'Untitled1.ipynb',\n",
       " 'Useful_Info_Notebook.ipynb',\n",
       " 'War Card Game.ipynb']"
      ]
     },
     "execution_count": 10,
     "metadata": {},
     "output_type": "execute_result"
    }
   ],
   "source": [
    "os.listdir()"
   ]
  },
  {
   "cell_type": "code",
   "execution_count": 11,
   "metadata": {},
   "outputs": [
    {
     "data": {
      "text/plain": [
       "['.android',\n",
       " '.cache',\n",
       " '.conda',\n",
       " '.condarc',\n",
       " '.ipynb_checkpoints',\n",
       " '.ipython',\n",
       " '.jupyter',\n",
       " '.pylint.d',\n",
       " '.python_history',\n",
       " '3D Objects',\n",
       " 'anaconda3',\n",
       " 'AppData',\n",
       " 'Application Data',\n",
       " 'Contacts',\n",
       " 'Cookies',\n",
       " 'Creative Cloud Files',\n",
       " 'Creative Cloud Files jiggasha@gmail.com fd1cbe6f9889ac940893df42d92c69fe4e5b4869344332a303da396d85e2fa8b',\n",
       " 'Desktop',\n",
       " 'Documents',\n",
       " 'Downloads',\n",
       " 'Favorites',\n",
       " 'HP',\n",
       " 'Intel',\n",
       " 'IntelGraphicsProfiles',\n",
       " 'Links',\n",
       " 'Local Settings',\n",
       " 'MicrosoftEdgeBackups',\n",
       " 'Music',\n",
       " 'My Documents',\n",
       " 'NetHood',\n",
       " 'NTUSER.DAT',\n",
       " 'ntuser.dat.LOG1',\n",
       " 'ntuser.dat.LOG2',\n",
       " 'NTUSER.DAT{72203cc7-f401-11ea-bc42-f28307b61353}.TxR.0.regtrans-ms',\n",
       " 'NTUSER.DAT{72203cc7-f401-11ea-bc42-f28307b61353}.TxR.1.regtrans-ms',\n",
       " 'NTUSER.DAT{72203cc7-f401-11ea-bc42-f28307b61353}.TxR.2.regtrans-ms',\n",
       " 'NTUSER.DAT{72203cc7-f401-11ea-bc42-f28307b61353}.TxR.blf',\n",
       " 'NTUSER.DAT{72203cc8-f401-11ea-bc42-f28307b61353}.TM.blf',\n",
       " 'NTUSER.DAT{72203cc8-f401-11ea-bc42-f28307b61353}.TMContainer00000000000000000001.regtrans-ms',\n",
       " 'NTUSER.DAT{72203cc8-f401-11ea-bc42-f28307b61353}.TMContainer00000000000000000002.regtrans-ms',\n",
       " 'ntuser.ini',\n",
       " 'OneDrive',\n",
       " 'Pictures',\n",
       " 'PrintHood',\n",
       " 'Python Learning',\n",
       " 'Recent',\n",
       " 'Roaming',\n",
       " 'Saved Games',\n",
       " 'Searches',\n",
       " 'SendTo',\n",
       " 'Start Menu',\n",
       " 'temp.758584804',\n",
       " 'Templates',\n",
       " 'Untitled.ipynb',\n",
       " 'Untitled1.ipynb',\n",
       " 'Videos']"
      ]
     },
     "execution_count": 11,
     "metadata": {},
     "output_type": "execute_result"
    }
   ],
   "source": [
    "os.listdir('C:\\\\Users\\\\jigga')"
   ]
  },
  {
   "cell_type": "code",
   "execution_count": 12,
   "metadata": {},
   "outputs": [
    {
     "data": {
      "text/plain": [
       "'C:\\\\Users\\\\jigga\\\\Python Learning\\\\Example_Folder\\\\os_module_testfile.txt'"
      ]
     },
     "execution_count": 12,
     "metadata": {},
     "output_type": "execute_result"
    }
   ],
   "source": [
    "shutil.move('os_module_testfile.txt','C:\\\\Users\\\\jigga\\\\Python Learning\\\\Example_Folder')"
   ]
  },
  {
   "cell_type": "code",
   "execution_count": 13,
   "metadata": {},
   "outputs": [
    {
     "data": {
      "text/plain": [
       "['.ipynb_checkpoints',\n",
       " 'Example_folder_one',\n",
       " 'Example_folder_two',\n",
       " 'os_module_testfile.txt']"
      ]
     },
     "execution_count": 13,
     "metadata": {},
     "output_type": "execute_result"
    }
   ],
   "source": [
    "os.listdir('C:\\\\Users\\\\jigga\\\\Python Learning\\\\Example_Folder')"
   ]
  },
  {
   "cell_type": "code",
   "execution_count": 14,
   "metadata": {},
   "outputs": [],
   "source": [
    "f = open('os_module_testfile_example1.txt','w+')\n",
    "f.write('This is another test file!')\n",
    "f.close()"
   ]
  },
  {
   "cell_type": "code",
   "execution_count": 17,
   "metadata": {},
   "outputs": [
    {
     "data": {
      "text/plain": [
       "'C:\\\\Users\\\\jigga\\\\Python Learning\\\\Example_Folder\\\\Example_Folder_One\\\\os_module_testfile_example1.txt'"
      ]
     },
     "execution_count": 17,
     "metadata": {},
     "output_type": "execute_result"
    }
   ],
   "source": [
    "shutil.move('os_module_testfile_example1.txt','C:\\\\Users\\\\jigga\\\\Python Learning\\\\Example_Folder\\\\Example_Folder_One')"
   ]
  },
  {
   "cell_type": "code",
   "execution_count": 18,
   "metadata": {},
   "outputs": [],
   "source": [
    "f = open('os_module_testfile_example2.txt','w+')\n",
    "f.write('This is test file 2!')\n",
    "f.close()"
   ]
  },
  {
   "cell_type": "code",
   "execution_count": 19,
   "metadata": {},
   "outputs": [
    {
     "data": {
      "text/plain": [
       "'C:\\\\Users\\\\jigga\\\\Python Learning\\\\Example_Folder\\\\Example_Folder_Two\\\\os_module_testfile_example2.txt'"
      ]
     },
     "execution_count": 19,
     "metadata": {},
     "output_type": "execute_result"
    }
   ],
   "source": [
    "shutil.move('os_module_testfile_example2.txt','C:\\\\Users\\\\jigga\\\\Python Learning\\\\Example_Folder\\\\Example_Folder_Two')"
   ]
  },
  {
   "cell_type": "code",
   "execution_count": 20,
   "metadata": {},
   "outputs": [
    {
     "data": {
      "text/plain": [
       "['.ipynb_checkpoints',\n",
       " 'Example_folder_one',\n",
       " 'Example_folder_two',\n",
       " 'os_module_testfile.txt']"
      ]
     },
     "execution_count": 20,
     "metadata": {},
     "output_type": "execute_result"
    }
   ],
   "source": [
    "os.listdir('C:\\\\Users\\\\jigga\\\\Python Learning\\\\Example_Folder')"
   ]
  },
  {
   "cell_type": "code",
   "execution_count": 21,
   "metadata": {},
   "outputs": [
    {
     "data": {
      "text/plain": [
       "['.ipynb_checkpoints',\n",
       " 'Example_SubFolder_One',\n",
       " 'os_module_testfile_example1.txt']"
      ]
     },
     "execution_count": 21,
     "metadata": {},
     "output_type": "execute_result"
    }
   ],
   "source": [
    "os.listdir('C:\\\\Users\\\\jigga\\\\Python Learning\\\\Example_Folder\\\\Example_Folder_One')"
   ]
  },
  {
   "cell_type": "code",
   "execution_count": 22,
   "metadata": {},
   "outputs": [],
   "source": [
    "f = open('os_module_testfile_subExample.txt','w+')\n",
    "f.write('This is test subfile!')\n",
    "f.close()"
   ]
  },
  {
   "cell_type": "code",
   "execution_count": 23,
   "metadata": {},
   "outputs": [
    {
     "data": {
      "text/plain": [
       "'C:\\\\Users\\\\jigga\\\\Python Learning\\\\Example_Folder\\\\Example_SubFolder_One'"
      ]
     },
     "execution_count": 23,
     "metadata": {},
     "output_type": "execute_result"
    }
   ],
   "source": [
    "shutil.move('os_module_testfile_subExample.txt','C:\\\\Users\\\\jigga\\\\Python Learning\\\\Example_Folder\\\\Example_SubFolder_One')"
   ]
  },
  {
   "cell_type": "code",
   "execution_count": 24,
   "metadata": {},
   "outputs": [
    {
     "data": {
      "text/plain": [
       "'C:\\\\Users\\\\jigga\\\\Python Learning'"
      ]
     },
     "execution_count": 24,
     "metadata": {},
     "output_type": "execute_result"
    }
   ],
   "source": [
    "os.getcwd()"
   ]
  },
  {
   "cell_type": "code",
   "execution_count": 25,
   "metadata": {},
   "outputs": [
    {
     "data": {
      "text/plain": [
       "<generator object walk at 0x00000199E93E82E0>"
      ]
     },
     "execution_count": 25,
     "metadata": {},
     "output_type": "execute_result"
    }
   ],
   "source": [
    "os.walk('Example_Folder')"
   ]
  },
  {
   "cell_type": "code",
   "execution_count": 33,
   "metadata": {},
   "outputs": [
    {
     "name": "stdout",
     "output_type": "stream",
     "text": [
      "Current folder is: Example_Folder\n",
      "\n",
      "SubFolders are::\n",
      "\tSubFolder is: .ipynb_checkpoints\n",
      "\tSubFolder is: Example_folder_one\n",
      "\tSubFolder is: Example_folder_two\n",
      "\n",
      "Files are::\n",
      "\tFile is: os_module_testfile.txt\n",
      "\n",
      "\n",
      "Current folder is: Example_Folder\\.ipynb_checkpoints\n",
      "\n",
      "SubFolders are::\n",
      "\n",
      "Files are::\n",
      "Current folder is: Example_Folder\\Example_folder_one\n",
      "\n",
      "SubFolders are::\n",
      "\tSubFolder is: .ipynb_checkpoints\n",
      "\tSubFolder is: Example_SubFolder_One\n",
      "\n",
      "Files are::\n",
      "\tFile is: os_module_testfile_example1.txt\n",
      "\n",
      "\n",
      "Current folder is: Example_Folder\\Example_folder_one\\.ipynb_checkpoints\n",
      "\n",
      "SubFolders are::\n",
      "\n",
      "Files are::\n",
      "Current folder is: Example_Folder\\Example_folder_one\\Example_SubFolder_One\n",
      "\n",
      "SubFolders are::\n",
      "\n",
      "Files are::\n",
      "Current folder is: Example_Folder\\Example_folder_two\n",
      "\n",
      "SubFolders are::\n",
      "\n",
      "Files are::\n",
      "\tFile is: os_module_testfile_example2.txt\n",
      "\n",
      "\n"
     ]
    }
   ],
   "source": [
    "for folder,sub_folder,file in os.walk('Example_Folder'):\n",
    "    print(f'Current folder is: {folder}')\n",
    "    print('\\nSubFolders are::')\n",
    "    for item in sub_folder:\n",
    "        print(f'\\tSubFolder is: {item}')\n",
    "        \n",
    "    print('\\nFiles are::')\n",
    "    for f in file:\n",
    "        print(f'\\tFile is: {f}')\n",
    "        print(\"\\n\")"
   ]
  },
  {
   "cell_type": "code",
   "execution_count": null,
   "metadata": {},
   "outputs": [],
   "source": []
  }
 ],
 "metadata": {
  "kernelspec": {
   "display_name": "Python 3",
   "language": "python",
   "name": "python3"
  },
  "language_info": {
   "codemirror_mode": {
    "name": "ipython",
    "version": 3
   },
   "file_extension": ".py",
   "mimetype": "text/x-python",
   "name": "python",
   "nbconvert_exporter": "python",
   "pygments_lexer": "ipython3",
   "version": "3.8.5"
  }
 },
 "nbformat": 4,
 "nbformat_minor": 4
}
