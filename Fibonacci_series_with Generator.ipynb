{
 "cells": [
  {
   "cell_type": "code",
   "execution_count": 26,
   "metadata": {},
   "outputs": [],
   "source": [
    "# Generator Function\n",
    "def fibonacci_series(x):\n",
    "    \n",
    "    #variables declaration\n",
    "    num_1 = 1\n",
    "    num_2 = 0\n",
    "    num_3 = 0\n",
    "    \n",
    "    #for loop to create the series\n",
    "    for n in range(0,x):\n",
    "        yield num_3\n",
    "        num_3 = num_1 + num_2\n",
    "        num_1, num_2 = num_2, num_3\n"
   ]
  },
  {
   "cell_type": "code",
   "execution_count": 27,
   "metadata": {},
   "outputs": [
    {
     "name": "stdout",
     "output_type": "stream",
     "text": [
      "num =>  0\n",
      "num =>  1\n",
      "num =>  1\n",
      "num =>  2\n",
      "num =>  3\n",
      "num =>  5\n",
      "num =>  8\n",
      "num =>  13\n",
      "num =>  21\n",
      "num =>  34\n"
     ]
    }
   ],
   "source": [
    "for n in fibonacci_series(10):\n",
    "    print(\"num => \",n)"
   ]
  },
  {
   "cell_type": "code",
   "execution_count": null,
   "metadata": {},
   "outputs": [],
   "source": []
  },
  {
   "cell_type": "code",
   "execution_count": 14,
   "metadata": {},
   "outputs": [
    {
     "name": "stdout",
     "output_type": "stream",
     "text": [
      "0\n",
      "1\n",
      "1\n",
      "2\n",
      "3\n",
      "5\n",
      "8\n",
      "13\n",
      "21\n",
      "34\n",
      "55\n",
      "89\n",
      "144\n",
      "233\n",
      "377\n",
      "610\n",
      "987\n",
      "1597\n",
      "2584\n",
      "4181\n"
     ]
    }
   ],
   "source": [
    "num_1 = 1\n",
    "num_2 = 0\n",
    "num_3 = 0\n",
    "\n",
    "#for loop to create the series\n",
    "for n in range(0,20):\n",
    "    print(num_3)\n",
    "    num_3 = num_1 + num_2\n",
    "    num_1, num_2 = num_2, num_3\n",
    "\n",
    "    \n",
    "    "
   ]
  },
  {
   "cell_type": "code",
   "execution_count": null,
   "metadata": {},
   "outputs": [],
   "source": []
  }
 ],
 "metadata": {
  "kernelspec": {
   "display_name": "Python 3",
   "language": "python",
   "name": "python3"
  },
  "language_info": {
   "codemirror_mode": {
    "name": "ipython",
    "version": 3
   },
   "file_extension": ".py",
   "mimetype": "text/x-python",
   "name": "python",
   "nbconvert_exporter": "python",
   "pygments_lexer": "ipython3",
   "version": "3.8.5"
  }
 },
 "nbformat": 4,
 "nbformat_minor": 4
}
