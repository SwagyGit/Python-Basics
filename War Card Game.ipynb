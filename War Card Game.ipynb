{
 "cells": [
  {
   "cell_type": "code",
   "execution_count": 1,
   "metadata": {},
   "outputs": [],
   "source": [
    "#Global Variables\n",
    "import random\n",
    "suits = ('Hearts','Diamonds','Clubs','Spades')\n",
    "ranks = ('Two','Three','Four','Five','Six','Seven','Eight','Nine','Ten','Jack','Queen','King','Ace')\n",
    "values = {'Two':2, 'Three':3, 'Four':4, 'Five':5, 'Six':6, 'Seven':7, 'Eight':8, 'Nine':9, 'Ten':10, 'Jack':11, 'Queen':12, 'King':13, 'Ace':14}"
   ]
  },
  {
   "cell_type": "code",
   "execution_count": 2,
   "metadata": {},
   "outputs": [],
   "source": [
    "#Class for Card\n",
    "\n",
    "class Card:\n",
    "    \n",
    "    def __init__(self,rank,suit):\n",
    "        \n",
    "        self.rank = rank\n",
    "        self.suit = suit\n",
    "        self.value = values[rank]\n",
    "        \n",
    "    def __str__(self):\n",
    "        \n",
    "        return self.rank +' of '+ self.suit"
   ]
  },
  {
   "cell_type": "code",
   "execution_count": 5,
   "metadata": {},
   "outputs": [],
   "source": [
    "card_1 = Card('Two','Spades')"
   ]
  },
  {
   "cell_type": "code",
   "execution_count": 6,
   "metadata": {},
   "outputs": [
    {
     "name": "stdout",
     "output_type": "stream",
     "text": [
      "Two of Spades\n"
     ]
    }
   ],
   "source": [
    "print(card_11)"
   ]
  },
  {
   "cell_type": "code",
   "execution_count": 7,
   "metadata": {},
   "outputs": [
    {
     "data": {
      "text/plain": [
       "'Two'"
      ]
     },
     "execution_count": 7,
     "metadata": {},
     "output_type": "execute_result"
    }
   ],
   "source": [
    "card_1.rank"
   ]
  },
  {
   "cell_type": "code",
   "execution_count": 8,
   "metadata": {},
   "outputs": [
    {
     "data": {
      "text/plain": [
       "'Spades'"
      ]
     },
     "execution_count": 8,
     "metadata": {},
     "output_type": "execute_result"
    }
   ],
   "source": [
    "card_1.suit"
   ]
  },
  {
   "cell_type": "code",
   "execution_count": 9,
   "metadata": {},
   "outputs": [
    {
     "data": {
      "text/plain": [
       "2"
      ]
     },
     "execution_count": 9,
     "metadata": {},
     "output_type": "execute_result"
    }
   ],
   "source": [
    "card_1.value"
   ]
  },
  {
   "cell_type": "code",
   "execution_count": 3,
   "metadata": {},
   "outputs": [],
   "source": [
    "#Class for Deck\n",
    "#1. Creating new deck\n",
    "#2. Shuffles a deck\n",
    "#3. Take a card out of the deck\n",
    "\n",
    "class Deck:\n",
    "    \n",
    "    def __init__(self):\n",
    "        \n",
    "        self.new_deck = []\n",
    "        #Creating card objects and making a list of 52 cards\n",
    "        for suit in suits:\n",
    "            for rank in ranks:\n",
    "                card_obj = Card(rank,suit)\n",
    "                self.new_deck.append(card_obj)\n",
    "                \n",
    "                \n",
    "    #Shuffling the Deck\n",
    "    def shuffle(self):\n",
    "        random.shuffle(self.new_deck)\n",
    "        \n",
    "        \n",
    "    #Taking the last card\n",
    "    def deal_one(self):\n",
    "        return self.new_deck.pop()"
   ]
  },
  {
   "cell_type": "code",
   "execution_count": 73,
   "metadata": {},
   "outputs": [],
   "source": [
    "deck_1 = Deck()"
   ]
  },
  {
   "cell_type": "code",
   "execution_count": 74,
   "metadata": {},
   "outputs": [
    {
     "data": {
      "text/plain": [
       "52"
      ]
     },
     "execution_count": 74,
     "metadata": {},
     "output_type": "execute_result"
    }
   ],
   "source": [
    "len(deck_1.new_deck)"
   ]
  },
  {
   "cell_type": "code",
   "execution_count": 28,
   "metadata": {},
   "outputs": [
    {
     "name": "stdout",
     "output_type": "stream",
     "text": [
      "King of Spades\n"
     ]
    }
   ],
   "source": [
    "print(deck_1.new_deck[1])"
   ]
  },
  {
   "cell_type": "code",
   "execution_count": 75,
   "metadata": {},
   "outputs": [],
   "source": [
    "deck_1.shuffle()"
   ]
  },
  {
   "cell_type": "code",
   "execution_count": 4,
   "metadata": {},
   "outputs": [],
   "source": [
    "# Class for Player\n",
    "#1. add name and empty list\n",
    "#2. add any number of cards at the end of the list\n",
    "#3. Take the 1st card\n",
    "\n",
    "class Player:\n",
    "    # add name and empty list\n",
    "    def __init__(self,name):\n",
    "        self.name = name\n",
    "        self.player_card = []\n",
    "        \n",
    "    # add any number of cards at the end of the list\n",
    "    def add_card(self,cards_list):\n",
    "        # When multiple card objects are adding\n",
    "        if type(cards_list) == type([]):\n",
    "            self.player_card.extend(cards_list)\n",
    "        # When a single card object is adding\n",
    "        else:\n",
    "            self.player_card.append(cards_list)\n",
    "              \n",
    "    \n",
    "    #3. Take the 1st card\n",
    "    def remove_card(self):\n",
    "        return self.player_card.pop(0)\n",
    "    \n",
    "    # Print function\n",
    "    def __str__(self):\n",
    "        return f'Player {self.name} is having {len(self.player_card)} cards.'"
   ]
  },
  {
   "cell_type": "code",
   "execution_count": 62,
   "metadata": {},
   "outputs": [],
   "source": [
    "player_1 = Player(\"Swag\")"
   ]
  },
  {
   "cell_type": "code",
   "execution_count": 63,
   "metadata": {},
   "outputs": [
    {
     "data": {
      "text/plain": [
       "'Swag'"
      ]
     },
     "execution_count": 63,
     "metadata": {},
     "output_type": "execute_result"
    }
   ],
   "source": [
    "player_1.name"
   ]
  },
  {
   "cell_type": "code",
   "execution_count": 71,
   "metadata": {},
   "outputs": [
    {
     "name": "stdout",
     "output_type": "stream",
     "text": [
      "Player Swag is having 2 cards.\n"
     ]
    }
   ],
   "source": [
    "print(player_1)"
   ]
  },
  {
   "cell_type": "code",
   "execution_count": 51,
   "metadata": {},
   "outputs": [
    {
     "data": {
      "text/plain": [
       "<__main__.Card at 0x1a62dbbf790>"
      ]
     },
     "execution_count": 51,
     "metadata": {},
     "output_type": "execute_result"
    }
   ],
   "source": [
    "card_1"
   ]
  },
  {
   "cell_type": "code",
   "execution_count": 65,
   "metadata": {},
   "outputs": [],
   "source": [
    "player_1.add_card(card_1)"
   ]
  },
  {
   "cell_type": "code",
   "execution_count": 66,
   "metadata": {},
   "outputs": [],
   "source": [
    "card_2 = Card('Five','Hearts')"
   ]
  },
  {
   "cell_type": "code",
   "execution_count": 67,
   "metadata": {},
   "outputs": [],
   "source": [
    "player_1.add_card([card_1,card_2])"
   ]
  },
  {
   "cell_type": "code",
   "execution_count": 69,
   "metadata": {},
   "outputs": [],
   "source": [
    "top_card = player_1.remove_card()"
   ]
  },
  {
   "cell_type": "code",
   "execution_count": 70,
   "metadata": {},
   "outputs": [
    {
     "data": {
      "text/plain": [
       "<__main__.Card at 0x1a62dbbf790>"
      ]
     },
     "execution_count": 70,
     "metadata": {},
     "output_type": "execute_result"
    }
   ],
   "source": [
    "top_card"
   ]
  },
  {
   "cell_type": "code",
   "execution_count": 5,
   "metadata": {},
   "outputs": [],
   "source": [
    "# Game Setup\n",
    "\n",
    "player_1 = Player(\"One\")\n",
    "player_2 = Player(\"Two\")\n",
    "\n",
    "new_deck = Deck()\n",
    "new_deck.shuffle()\n",
    "\n",
    "for i in range(26):\n",
    "    player_1.add_card(new_deck.deal_one())\n",
    "    player_2.add_card(new_deck.deal_one())"
   ]
  },
  {
   "cell_type": "code",
   "execution_count": 6,
   "metadata": {},
   "outputs": [],
   "source": [
    "game_on = True"
   ]
  },
  {
   "cell_type": "code",
   "execution_count": 7,
   "metadata": {},
   "outputs": [
    {
     "name": "stdout",
     "output_type": "stream",
     "text": [
      "Round #1\n",
      "Round #2\n",
      "Round #3\n",
      "Round #4\n",
      "Round #5\n",
      "Round #6\n",
      "Round #7\n",
      "Round #8\n",
      "Round #9\n",
      "Round #10\n",
      "Round #11\n",
      "Round #12\n",
      "Round #13\n",
      "Round #14\n",
      "WAR!!!\n",
      "WAR!!!\n",
      "Round #15\n",
      "Round #16\n",
      "Round #17\n",
      "Round #18\n",
      "Round #19\n",
      "Round #20\n",
      "Round #21\n",
      "Round #22\n",
      "Round #23\n",
      "Round #24\n",
      "WAR!!!\n",
      "Round #25\n",
      "Round #26\n",
      "Round #27\n",
      "Round #28\n",
      "Round #29\n",
      "Round #30\n",
      "Round #31\n",
      "Round #32\n",
      "Round #33\n",
      "Round #34\n",
      "Round #35\n",
      "Round #36\n",
      "Round #37\n",
      "Round #38\n",
      "Round #39\n",
      "Round #40\n",
      "Round #41\n",
      "WAR!!!\n",
      "Round #42\n",
      "Round #43\n",
      "Round #44\n",
      "WAR!!!\n",
      "Round #45\n",
      "Round #46\n",
      "Round #47\n",
      "Round #48\n",
      "Round #49\n",
      "Round #50\n",
      "Round #51\n",
      "Round #52\n",
      "Round #53\n",
      "Round #54\n",
      "Round #55\n",
      "Round #56\n",
      "Round #57\n",
      "Round #58\n",
      "Round #59\n",
      "Round #60\n",
      "Round #61\n",
      "Round #62\n",
      "WAR!!!\n",
      "Round #63\n",
      "Round #64\n",
      "Round #65\n",
      "Round #66\n",
      "Round #67\n",
      "Round #68\n",
      "Round #69\n",
      "Round #70\n",
      "Round #71\n",
      "Round #72\n",
      "Round #73\n",
      "Round #74\n",
      "Round #75\n",
      "Round #76\n",
      "Round #77\n",
      "Round #78\n",
      "Round #79\n",
      "Round #80\n",
      "Round #81\n",
      "Round #82\n",
      "Round #83\n",
      "Round #84\n",
      "Round #85\n",
      "Round #86\n",
      "Round #87\n",
      "Round #88\n",
      "Round #89\n",
      "Round #90\n",
      "Round #91\n",
      "Round #92\n",
      "Round #93\n",
      "Round #94\n",
      "Round #95\n",
      "Round #96\n",
      "Round #97\n",
      "Round #98\n",
      "Round #99\n",
      "Round #100\n",
      "Round #101\n",
      "Round #102\n",
      "Round #103\n",
      "Round #104\n",
      "Round #105\n",
      "Round #106\n",
      "Round #107\n",
      "Round #108\n",
      "Round #109\n",
      "Round #110\n",
      "Round #111\n",
      "Round #112\n",
      "Round #113\n",
      "Round #114\n",
      "Round #115\n",
      "Round #116\n",
      "Round #117\n",
      "Round #118\n",
      "Round #119\n",
      "Round #120\n",
      "Round #121\n",
      "Round #122\n",
      "Round #123\n",
      "Round #124\n",
      "Round #125\n",
      "Round #126\n",
      "Round #127\n",
      "Round #128\n",
      "WAR!!!\n",
      "Round #129\n",
      "Round #130\n",
      "Round #131\n",
      "Round #132\n",
      "Round #133\n",
      "Round #134\n",
      "Round #135\n",
      "Round #136\n",
      "Round #137\n",
      "Round #138\n",
      "Round #139\n",
      "Round #140\n",
      "Round #141\n",
      "Round #142\n",
      "WAR!!!\n",
      "Round #143\n",
      "Round #144\n",
      "Round #145\n",
      "Round #146\n",
      "Round #147\n",
      "Round #148\n",
      "Round #149\n",
      "Round #150\n",
      "Round #151\n",
      "Round #152\n",
      "Round #153\n",
      "Round #154\n",
      "Round #155\n",
      "Round #156\n",
      "Round #157\n",
      "Round #158\n",
      "Round #159\n",
      "Round #160\n",
      "Round #161\n",
      "WAR!!!\n",
      "Round #162\n",
      "Round #163\n",
      "Round #164\n",
      "Round #165\n",
      "Round #166\n",
      "Round #167\n",
      "Round #168\n",
      "Round #169\n",
      "Round #170\n",
      "Round #171\n",
      "Round #172\n",
      "Round #173\n",
      "Round #174\n",
      "Round #175\n",
      "Round #176\n",
      "Round #177\n",
      "Round #178\n",
      "Round #179\n",
      "Round #180\n",
      "Round #181\n",
      "Round #182\n",
      "WAR!!!\n",
      "Round #183\n",
      "Round #184\n",
      "WAR!!!\n",
      "Round #185\n",
      "Round #186\n",
      "Round #187\n",
      "Round #188\n",
      "Round #189\n",
      "Round #190\n",
      "Round #191\n",
      "WAR!!!\n",
      "Round #192\n",
      "Round #193\n",
      "Round #194\n",
      "Round #195\n",
      "Round #196\n",
      "Round #197\n",
      "Round #198\n",
      "WAR!!!\n",
      "Round #199\n",
      "Round #200\n",
      "Round #201\n",
      "Round #202\n",
      "Round #203\n",
      "Round #204\n",
      "Round #205\n",
      "Round #206\n",
      "Round #207\n",
      "Round #208\n",
      "Round #209\n",
      "Round #210\n",
      "Round #211\n",
      "Round #212\n",
      "Round #213\n",
      "Round #214\n",
      "WAR!!!\n",
      "Round #215\n",
      "Round #216\n",
      "Round #217\n",
      "Round #218\n",
      "Round #219\n",
      "Round #220\n",
      "Round #221\n",
      "Round #222\n",
      "Round #223\n",
      "Round #224\n",
      "Round #225\n",
      "Round #226\n",
      "WAR!!!\n",
      "Round #227\n",
      "Round #228\n",
      "WAR!!!\n",
      "Round #229\n",
      "Round #230\n",
      "Round #231\n",
      "Round #232\n",
      "Round #233\n",
      "Round #234\n",
      "Round #235\n",
      "Round #236\n",
      "Round #237\n",
      "Round #238\n",
      "Round #239\n",
      "Round #240\n",
      "Round #241\n",
      "Round #242\n",
      "Round #243\n",
      "Round #244\n",
      "Round #245\n",
      "Round #246\n",
      "Round #247\n",
      "WAR!!!\n",
      "Round #248\n",
      "Round #249\n",
      "Round #250\n",
      "WAR!!!\n",
      "Round #251\n",
      "Round #252\n",
      "Round #253\n",
      "Round #254\n",
      "Round #255\n",
      "WAR!!!\n",
      "Round #256\n",
      "Round #257\n",
      "Round #258\n",
      "Round #259\n",
      "WAR!!!\n",
      "Round #260\n",
      "Round #261\n",
      "Round #262\n",
      "Round #263\n",
      "Round #264\n",
      "Round #265\n",
      "Round #266\n",
      "WAR!!!\n",
      "Round #267\n",
      "Round #268\n",
      "Round #269\n",
      "Round #270\n",
      "Round #271\n",
      "Round #272\n",
      "Round #273\n",
      "WAR!!!\n",
      "Round #274\n",
      "Round #275\n",
      "Round #276\n",
      "Round #277\n",
      "Round #278\n",
      "Round #279\n",
      "Round #280\n",
      "Round #281\n",
      "Round #282\n",
      "Round #283\n",
      "Round #284\n",
      "Round #285\n",
      "Round #286\n",
      "Round #287\n",
      "Round #288\n",
      "Round #289\n",
      "Round #290\n",
      "Round #291\n",
      "Round #292\n",
      "Round #293\n",
      "Round #294\n",
      "Round #295\n",
      "Round #296\n",
      "Round #297\n",
      "Round #298\n",
      "WAR!!!\n",
      "Round #299\n",
      "Round #300\n",
      "Round #301\n",
      "Round #302\n",
      "Round #303\n",
      "Round #304\n",
      "Round #305\n",
      "Round #306\n",
      "Round #307\n",
      "Round #308\n",
      "Round #309\n",
      "Round #310\n",
      "Round #311\n",
      "Round #312\n",
      "Round #313\n",
      "Round #314\n",
      "Round #315\n",
      "Round #316\n",
      "Round #317\n",
      "Round #318\n",
      "Round #319\n",
      "Round #320\n",
      "Round #321\n",
      "Round #322\n",
      "Round #323\n",
      "Round #324\n",
      "Round #325\n",
      "Round #326\n",
      "Round #327\n",
      "Round #328\n",
      "Round #329\n",
      "Round #330\n",
      "Round #331\n",
      "Round #332\n",
      "Round #333\n",
      "Round #334\n",
      "Round #335\n",
      "Round #336\n",
      "Round #337\n",
      "WAR!!!\n",
      "Player1 is unable to declare war.\n",
      "Player2 wins!!!\n"
     ]
    }
   ],
   "source": [
    "# Game Logics\n",
    "\n",
    "game_round = 0\n",
    "\n",
    "# While for Game_on\n",
    "while game_on:\n",
    "    \n",
    "    player_1_card = []\n",
    "    player_2_card = []\n",
    "    game_round += 1\n",
    "    \n",
    "    print(\"Round #{}\".format(game_round))\n",
    "    \n",
    "    if len(player_1.player_card) == 0:\n",
    "        game_on = False\n",
    "        print(\"Player1 is out of card. Player2 is the winner!\")\n",
    "        break\n",
    "        \n",
    "    if len(player_2.player_card) == 0:\n",
    "        game_on = False\n",
    "        print(\"Player2 is out of cards. Player1 is the winner!\")\n",
    "        break\n",
    "        \n",
    "    #Start with new card\n",
    "    player_1_card.append(player_1.remove_card())\n",
    "    player_2_card.append(player_2.remove_card())\n",
    "    \n",
    "    #Check for war_on\n",
    "    war_on = True\n",
    "         \n",
    "    while war_on:\n",
    "        \n",
    "        if player_1_card[-1].value > player_2_card[-1].value:\n",
    "            \n",
    "            player_1.add_card(player_1_card)\n",
    "            player_1.add_card(player_2_card)\n",
    "            war_on = False\n",
    "\n",
    "        elif player_2_card[-1].value > player_1_card[-1].value:\n",
    "            \n",
    "            player_2.add_card(player_1_card)\n",
    "            player_2.add_card(player_2_card)\n",
    "            war_on = False\n",
    "            \n",
    "        else:\n",
    "            print(\"WAR!!!\")\n",
    "            \n",
    "            if len(player_1.player_card)<5:\n",
    "                print(\"Player1 is unable to declare war.\\nPlayer2 wins!!!\")\n",
    "                game_on = False\n",
    "                break\n",
    "            elif len(player_2.player_card)<5:\n",
    "                print(\"Player2 is unable to declare war.\\nPlayer1 wins!!!\")   \n",
    "                game_on = False\n",
    "                break\n",
    "            else:   \n",
    "                for i in range(5):\n",
    "                    player_1_card.append(player_1.remove_card())\n",
    "                    player_2_card.append(player_2.remove_card())\n",
    "\n",
    "                        \n",
    "                \n",
    "                    "
   ]
  },
  {
   "cell_type": "code",
   "execution_count": null,
   "metadata": {},
   "outputs": [],
   "source": []
  },
  {
   "cell_type": "code",
   "execution_count": null,
   "metadata": {},
   "outputs": [],
   "source": []
  }
 ],
 "metadata": {
  "kernelspec": {
   "display_name": "Python 3",
   "language": "python",
   "name": "python3"
  },
  "language_info": {
   "codemirror_mode": {
    "name": "ipython",
    "version": 3
   },
   "file_extension": ".py",
   "mimetype": "text/x-python",
   "name": "python",
   "nbconvert_exporter": "python",
   "pygments_lexer": "ipython3",
   "version": "3.8.5"
  }
 },
 "nbformat": 4,
 "nbformat_minor": 4
}
